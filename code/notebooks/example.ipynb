{
 "cells": [
  {
   "cell_type": "markdown",
   "metadata": {},
   "source": [
    "# Capsule Pulse Tracking"
   ]
  },
  {
   "cell_type": "markdown",
   "metadata": {},
   "source": [
    "The below python notebook explains how to setup the processing pipeline. Specifics for the exact processing implementation can be found in the `algo.py` file."
   ]
  },
  {
   "cell_type": "markdown",
   "metadata": {},
   "source": [
    "## Setup\n",
    "\n",
    "This has been tested on Ubuntu 17.10, but should work generally on linux systems, and potentially windows or OSX with small changes.\n",
    "\n",
    "Recommended setup:\n",
    "1. Follow directions to install [pyenv](https://github.com/pyenv/pyenv)\n",
    "2. Follow directions to install [pyenv-virtualenv](https://github.com/pyenv/pyenv-virtualenv)\n",
    "3. At the terminal, create a virtual environment using python 3.7 called cpt:\n",
    "```bash\n",
    "        pyenv virtualenv install 3.7.0\n",
    "        pyenv virtualenv 3.7.0 cpt\n",
    "```\n",
    "4. Install the necessary python libraries in your virtualenv\n",
    "```bash\n",
    "        pyenv activate cpt\n",
    "        pip install python-opencv2==3.4.0 numpy==1.14.3 pandas==0.22.0\n",
    "```\n",
    "5. Setup a project directory with the following structure:\n",
    "```\n",
    "      project directory/\n",
    "          code/\n",
    "              notebooks/\n",
    "                  explanation.ipynb\n",
    "              algo.py\n",
    "          videos/\n",
    "              myvideo/\n",
    "                  myvideo.mp4 (or avi, etc)\n",
    "```\n",
    "6. Run jupyter: `jupyter lab` and open this notebook once it's in the above directory structure."
   ]
  },
  {
   "cell_type": "markdown",
   "metadata": {},
   "source": [
    "#### Import statements:"
   ]
  },
  {
   "cell_type": "code",
   "execution_count": null,
   "metadata": {},
   "outputs": [],
   "source": [
    "import sys\n",
    "sys.path.append('../')\n",
    "import algo"
   ]
  },
  {
   "cell_type": "markdown",
   "metadata": {},
   "source": [
    "#### Sample Resizing\n",
    "Takes a reduction argument to downsize the video. This significantly speeds up the denoising process.  We downsized from 1080p to 270p."
   ]
  },
  {
   "cell_type": "code",
   "execution_count": null,
   "metadata": {},
   "outputs": [],
   "source": [
    "reduction=4\n",
    "\n",
    "algo.resize(\"myvideo.mp4\", reduction=reduction)"
   ]
  },
  {
   "cell_type": "markdown",
   "metadata": {},
   "source": [
    "#### Denoising\n",
    "Denoise the video to smooth out digital video grain."
   ]
  },
  {
   "cell_type": "code",
   "execution_count": null,
   "metadata": {},
   "outputs": [],
   "source": [
    "searchWindowPixel=11\n",
    "templateWindowSize=3\n",
    "h=3\n",
    "\n",
    "algo.denoise(\"myvideo.mp4\", searchWindowPixel=searchWindowPixel, templateWindowSize=templateWindowSize, h=h)"
   ]
  },
  {
   "cell_type": "markdown",
   "metadata": {},
   "source": [
    "#### Extract Movement\n",
    "The search window pixel, template window size, and h arguments here do not affect how movement is extracted, they merely help the program identify which video file to extract noise from.  The parameters used in video creation are encoded in the filename for clarity.  This step produces both a csv output for plotting, and a video output so you can visually assess effectiveness. There are advanced configuration options available, which you can find in algo.py, but we've left defaults at the parameters used for the paper."
   ]
  },
  {
   "cell_type": "code",
   "execution_count": null,
   "metadata": {},
   "outputs": [],
   "source": [
    "th=[5,7,9] # the pixel threshholds you want to compare\n",
    "\n",
    "algo.extract_motion(\"myvideo.mp4\", th=[5,7,9], searchWindowPixel=searchWindowPixel, templateWindowSize=templateWindowSize, h=h)"
   ]
  },
  {
   "cell_type": "code",
   "execution_count": null,
   "metadata": {},
   "outputs": [],
   "source": []
  },
  {
   "cell_type": "code",
   "execution_count": null,
   "metadata": {},
   "outputs": [],
   "source": []
  }
 ],
 "metadata": {
  "kernelspec": {
   "display_name": "Python 3",
   "language": "python",
   "name": "python3"
  },
  "language_info": {
   "codemirror_mode": {
    "name": "ipython",
    "version": 3
   },
   "file_extension": ".py",
   "mimetype": "text/x-python",
   "name": "python",
   "nbconvert_exporter": "python",
   "pygments_lexer": "ipython3",
   "version": "3.6.5"
  }
 },
 "nbformat": 4,
 "nbformat_minor": 2
}
